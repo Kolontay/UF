{
 "cells": [
  {
   "cell_type": "code",
   "execution_count": null,
   "id": "b16e0ba0-cbc6-4881-8788-80b5b58bd3cc",
   "metadata": {},
   "outputs": [],
   "source": [
    "def check_score(selected, full, base_metric, penalty=0.02):\n",
    "    frac_missing = 1 - len(selected) / len(full)\n",
    "    return base_metric - penalty * frac_missing\n",
    "\n",
    "def binary_feature_selection(feature_list, base_metric, threshold=0.01, penalty=0.02):\n",
    "    n = len(feature_list)\n",
    "    low, high = 1, n\n",
    "    best_size = n\n",
    "    best_metric = base_metric\n",
    "\n",
    "    while low < high:\n",
    "        mid = (low + high) // 2\n",
    "        subset = feature_list[:mid]\n",
    "        temp_metric = check_score(subset, feature_list, base_metric, penalty)\n",
    "        print(temp_metric)\n",
    "\n",
    "        if temp_metric >= base_metric - threshold:\n",
    "            best_size = mid\n",
    "            best_metric = temp_metric\n",
    "            high = mid  # пробуем меньше\n",
    "        else:\n",
    "            low = mid + 1  # пробуем больше\n",
    "\n",
    "    return feature_list[:best_size], best_metric\n",
    "\n",
    "feature_list = [\n",
    "    'a','b','c','d','e','f','g','h','i','j',\n",
    "    'k','l','m','n','o','p','r','s','t','u',\n",
    "    'v','w','x','y'\n",
    "]\n",
    "base_metric = 0.8\n",
    "\n",
    "binary_feature_selection(feature_list, base_metric,threshold=0.01,penalty=0.012)"
   ]
  }
 ],
 "metadata": {
  "kernelspec": {
   "display_name": "Python 3 (ipykernel)",
   "language": "python",
   "name": "python3"
  },
  "language_info": {
   "codemirror_mode": {
    "name": "ipython",
    "version": 3
   },
   "file_extension": ".py",
   "mimetype": "text/x-python",
   "name": "python",
   "nbconvert_exporter": "python",
   "pygments_lexer": "ipython3",
   "version": "3.11.7"
  }
 },
 "nbformat": 4,
 "nbformat_minor": 5
}
